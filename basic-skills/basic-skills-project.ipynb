{
 "cells": [
  {
   "cell_type": "code",
   "execution_count": null,
   "id": "a59b2d50-6a97-47a0-bcc4-7a41c7f75a0f",
   "metadata": {},
   "outputs": [],
   "source": [
    "Create classification models\n",
    "from this dataset https://www.kaggle.com/datasets/arnabchaki/tripadvisor-reviews-2023/code"
   ]
  }
 ],
 "metadata": {
  "kernelspec": {
   "display_name": "Python 3 (ipykernel)",
   "language": "python",
   "name": "python3"
  },
  "language_info": {
   "codemirror_mode": {
    "name": "ipython",
    "version": 3
   },
   "file_extension": ".py",
   "mimetype": "text/x-python",
   "name": "python",
   "nbconvert_exporter": "python",
   "pygments_lexer": "ipython3",
   "version": "3.9.13"
  }
 },
 "nbformat": 4,
 "nbformat_minor": 5
}
