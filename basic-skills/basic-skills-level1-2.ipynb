{
 "cells": [
  {
   "cell_type": "markdown",
   "id": "622cc9e3-8e94-42be-b992-e1c9447b1159",
   "metadata": {},
   "source": [
    "# Train A Model (Basic)"
   ]
  },
  {
   "cell_type": "code",
   "execution_count": null,
   "id": "8f7436ea-3db0-4df2-8459-c1134c0d9a90",
   "metadata": {},
   "outputs": [],
   "source": [
    "import os\n",
    "import torch\n",
    "from torch import nn\n",
    "import torch.nn.functional as F\n",
    "from torchvision import transforms\n",
    "from torchvision.datasets import MNIST\n",
    "from torch.utils.data import DataLoader, random_split\n",
    "import lightning.pytorch as pl"
   ]
  },
  {
   "cell_type": "code",
   "execution_count": null,
   "id": "0cb627b3-2f3e-4f6d-b046-01f4950777b4",
   "metadata": {},
   "outputs": [],
   "source": [
    "class Encoder(nn.Module):\n",
    "    def __init__(self):\n",
    "        super().__init__()\n",
    "        self.l1 = nn.Sequential(nn.Linear(28 * 28, 64), nn.ReLU(), nn.Linear(64, 3))\n",
    "        \n",
    "    def forward(self, x):\n",
    "        return self.l1(x)\n",
    "    \n",
    "class Decoder(nn.Module):\n",
    "    def __init__(self):\n",
    "        super().__init__()\n",
    "        self.l1 = nn.Sequential(nn.Linear(3, 64), nn.ReLU(), nn.Linear(64, 28 * 28))\n",
    "        \n",
    "    def forward(self, x):\n",
    "        return self.l1(x)"
   ]
  },
  {
   "cell_type": "code",
   "execution_count": null,
   "id": "14c212e3-5559-45d3-8bb9-35513215eefe",
   "metadata": {},
   "outputs": [],
   "source": [
    "class LitAutoEncoder(pl.LightningModule):\n",
    "    def __init__(self, encoder, decoder):\n",
    "        super().__init__()\n",
    "        self.save_hyperparameters()\n",
    "        self.encoder = encoder\n",
    "        self.decoder = decoder\n",
    "        \n",
    "    def training_step(self, batch, batch_idx):\n",
    "        x, y = batch\n",
    "        x = x.view(x.size(0), -1)\n",
    "        z = self.encoder(x)\n",
    "        x_hat = self.decoder(z)\n",
    "        loss = F.mse_loss(x_hat, x)\n",
    "        self.log(\"train_loss\", loss)\n",
    "        \n",
    "        return loss\n",
    "    \n",
    "    def validation_step(self, batch, batch_idx):\n",
    "        x, y = batch\n",
    "        x = x.view(x.size(0), -1)\n",
    "        z = self.encoder(x)\n",
    "        x_hat = self.decoder(z)\n",
    "        \n",
    "        val_loss = F.mse_loss(x_hat, x)\n",
    "        \n",
    "        self.log(\"val_loss\", val_loss)\n",
    "    \n",
    "    def test_step(self, batch, batch_idx):\n",
    "        x, y = batch\n",
    "        x = x.view(x.size(0), -1)\n",
    "        z = self.encoder(x)\n",
    "        x_hat = self.decoder(z)\n",
    "        test_loss = F.mse_loss(x_hat, x)\n",
    "        \n",
    "        self.log(\"test_loss\", test_loss)\n",
    "    \n",
    "    def configure_optimizers(self):\n",
    "        optimizer = torch.optim.Adam(self.parameters(), lr=1e-3)\n",
    "        return optimizer"
   ]
  },
  {
   "cell_type": "code",
   "execution_count": null,
   "id": "32d0b894-2633-4050-86db-826555510c87",
   "metadata": {},
   "outputs": [],
   "source": [
    "train_set = MNIST(os.getcwd(), download=True, train=True, transform=transforms.ToTensor())\n",
    "test_set = MNIST(os.getcwd(), download=True, train=False, transform=transforms.ToTensor())"
   ]
  },
  {
   "cell_type": "code",
   "execution_count": null,
   "id": "f1a3f90b-9ccb-4121-a656-202fbb379cb1",
   "metadata": {},
   "outputs": [],
   "source": [
    "train_loader = DataLoader(train_set, batch_size=512)\n",
    "test_loader = DataLoader(test_set, batch_size=512)"
   ]
  },
  {
   "cell_type": "markdown",
   "id": "575955d8-bce2-4964-bf06-3382617f6d5c",
   "metadata": {},
   "source": [
    "### Trainer for training"
   ]
  },
  {
   "cell_type": "code",
   "execution_count": null,
   "id": "edeeea81-3b29-4d81-8504-c7fe2fc4d013",
   "metadata": {},
   "outputs": [],
   "source": [
    "autoencoder = LitAutoEncoder(Encoder(), Decoder())"
   ]
  },
  {
   "cell_type": "code",
   "execution_count": null,
   "id": "31e1a996-df68-42fe-800c-25b9dc9cc585",
   "metadata": {},
   "outputs": [],
   "source": [
    "trainer = pl.Trainer(max_epochs=1)\n",
    "trainer.fit(model=autoencoder, train_dataloaders=train_loader, val_dataloaders=vali)"
   ]
  },
  {
   "cell_type": "markdown",
   "id": "3b29f8de-ded7-4476-845e-de2dc984a35d",
   "metadata": {},
   "source": [
    "### Trainer for Testing"
   ]
  },
  {
   "cell_type": "code",
   "execution_count": null,
   "id": "014e455f-4296-4c50-992f-cf54c74ebc07",
   "metadata": {},
   "outputs": [],
   "source": [
    "trainer.test(model=autoencoder, dataloaders=test_loader)"
   ]
  },
  {
   "cell_type": "markdown",
   "id": "0b82b316-e8bf-434b-b621-de3f64b91335",
   "metadata": {},
   "source": [
    "### Add validation loop"
   ]
  },
  {
   "cell_type": "code",
   "execution_count": null,
   "id": "7d0770dc-9c28-4191-941c-771ab54bbf13",
   "metadata": {},
   "outputs": [],
   "source": [
    "autoencoder = LitAutoEncoder(Encoder(), Decoder())"
   ]
  },
  {
   "cell_type": "code",
   "execution_count": null,
   "id": "0a0c5a36-3739-4128-95f2-4e58565e3927",
   "metadata": {},
   "outputs": [],
   "source": [
    "train_set_size = int(len(train_set) * 0.8)\n",
    "valid_set_size = len(train_set) - train_set_size\n",
    "\n",
    "seed = torch.Generator().manual_seed(42)\n",
    "train_set, valid_set = random_split(train_set, [train_set_size, valid_set_size], generator = seed)"
   ]
  },
  {
   "cell_type": "code",
   "execution_count": null,
   "id": "761ed8ac-1e8e-4cf1-9a23-b154e8f45471",
   "metadata": {},
   "outputs": [],
   "source": [
    "train_loader = DataLoader(train_set, batch_size = 512)\n",
    "valid_loader = DataLoader(valid_set, batch_size = 512)"
   ]
  },
  {
   "cell_type": "code",
   "execution_count": null,
   "id": "e2debcd9-21be-4de0-890f-378b064fee2f",
   "metadata": {},
   "outputs": [],
   "source": [
    "# Disable checkpointing\n",
    "# trainer = pl.Trainer(max_epochs=1, default_root_dir=\"GAN/\", enable_checkpointing=False)"
   ]
  },
  {
   "cell_type": "code",
   "execution_count": null,
   "id": "6e6b1e28-0e0a-4521-ba0b-8539260fb5d1",
   "metadata": {},
   "outputs": [],
   "source": [
    "early_stop_callback = pl.callbacks.early_stopping.EarlyStopping(monitor=\"val_loss\", mode=\"min\")"
   ]
  },
  {
   "cell_type": "code",
   "execution_count": null,
   "id": "dfae73ff-a960-440b-ae1b-a2723c031d48",
   "metadata": {},
   "outputs": [],
   "source": [
    "# to customize early stopping criteria\n",
    "# early_stop_callback = pl.callbacks.early_stopping.EarlyStopping(monitor=\"vall_accuracy\", min_delta=0.00, patience=3, verbose=False, mode=\"max\")"
   ]
  },
  {
   "cell_type": "code",
   "execution_count": null,
   "id": "0efe9b76-1c2e-41ce-ae5e-57deb6b97a13",
   "metadata": {},
   "outputs": [],
   "source": [
    "trainer = pl.Trainer(max_epochs=1, \n",
    "                     default_root_dir=\"GAN/\",\n",
    "                     callbacks=[early_stop_callback],\n",
    "                     enable_checkpointing=True)\n",
    "trainer.fit(autoencoder, train_loader, valid_loader)"
   ]
  },
  {
   "cell_type": "code",
   "execution_count": null,
   "id": "54a52625-25e3-434e-a11b-5580ec5ddbc6",
   "metadata": {},
   "outputs": [],
   "source": [
    "trainer.test(autoencoder, test_loader)"
   ]
  },
  {
   "cell_type": "markdown",
   "id": "221c5f9d-5072-4c0d-bf37-07ba4e1ac6c0",
   "metadata": {},
   "source": [
    "### LightningModule from Checkpoint"
   ]
  },
  {
   "cell_type": "code",
   "execution_count": null,
   "id": "558734f6-7fb1-4124-8943-1fa3189127b4",
   "metadata": {},
   "outputs": [],
   "source": [
    "model = LitAutoEncoder.load_from_checkpoint(\"GAN/lightning_logs/version_0/checkpoints/epoch=0-step=94.ckpt\",encoder=Encoder(), decoder=Decoder())"
   ]
  },
  {
   "cell_type": "code",
   "execution_count": null,
   "id": "2b39d43f-be9c-4132-b28f-68a7f6d7ea94",
   "metadata": {},
   "outputs": [],
   "source": [
    "model.eval()"
   ]
  },
  {
   "cell_type": "markdown",
   "id": "ff734bf1-c954-41d8-88d3-d893e8444d92",
   "metadata": {},
   "source": [
    "### Resume training state"
   ]
  },
  {
   "cell_type": "code",
   "execution_count": null,
   "id": "2a6c7740-d9bb-4073-b8ec-63f13bf78350",
   "metadata": {},
   "outputs": [],
   "source": [
    "model = LitAutoEncoder(encoder=Encoder(), decoder=Decoder())"
   ]
  },
  {
   "cell_type": "code",
   "execution_count": null,
   "id": "de7fa5e9-8718-45a3-a127-17090c445770",
   "metadata": {},
   "outputs": [],
   "source": [
    "trainer = pl.Trainer(max_epochs=1, default_root_dir=\"GAN/\")"
   ]
  },
  {
   "cell_type": "code",
   "execution_count": null,
   "id": "fb403290-69e3-4e64-ba9a-6d9b0479ef12",
   "metadata": {
    "scrolled": true,
    "tags": []
   },
   "outputs": [],
   "source": [
    "trainer.fit(autoencoder,\n",
    "            train_loader,\n",
    "            valid_loader,\n",
    "            ckpt_path=\"GAN/lightning_logs/version_1/checkpoints/epoch=0-step=94.ckpt\")"
   ]
  }
 ],
 "metadata": {
  "kernelspec": {
   "display_name": "Python 3 (ipykernel)",
   "language": "python",
   "name": "python3"
  },
  "language_info": {
   "codemirror_mode": {
    "name": "ipython",
    "version": 3
   },
   "file_extension": ".py",
   "mimetype": "text/x-python",
   "name": "python",
   "nbconvert_exporter": "python",
   "pygments_lexer": "ipython3",
   "version": "3.9.13"
  }
 },
 "nbformat": 4,
 "nbformat_minor": 5
}
